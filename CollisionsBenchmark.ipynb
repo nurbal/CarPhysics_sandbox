{
 "cells": [
  {
   "cell_type": "markdown",
   "id": "e98e6a40",
   "metadata": {},
   "source": [
    "Imports, etc..."
   ]
  },
  {
   "cell_type": "code",
   "execution_count": 1,
   "id": "0b2b2802",
   "metadata": {},
   "outputs": [],
   "source": [
    "from concurrent.futures.thread import _global_shutdown_lock\n",
    "from tkinter import E\n",
    "from Box2D import *\n",
    "# from Box2D.examples.framework import (Framework, Keys, main)\n",
    "\n",
    "from time import time\n",
    "\n",
    "\n"
   ]
  },
  {
   "cell_type": "markdown",
   "id": "3877d4c6",
   "metadata": {},
   "source": [
    "# class BenchmarkCircuit\n",
    "\n",
    "Classe utilitaire qui setup le monde Box2D, les \"véhicules\" et tout le reste"
   ]
  },
  {
   "cell_type": "code",
   "execution_count": 2,
   "id": "0c133e22",
   "metadata": {},
   "outputs": [],
   "source": [
    "from BenchmarkCircuit import BenchmarkCircuit"
   ]
  },
  {
   "cell_type": "markdown",
   "id": "f934d865",
   "metadata": {},
   "source": [
    "# class BenchFramework\n",
    "\n",
    "Basée sur la classe Box2D.examples.framework.Framework\n",
    "\n",
    "Me sert uniquement à visualiser la scène... \n",
    "\n",
    "**Ne semble pas fonctionner dans jupyter (un rapport avec l'utilisation de pygame ?)**"
   ]
  },
  {
   "cell_type": "code",
   "execution_count": 3,
   "id": "34fe6eaa",
   "metadata": {},
   "outputs": [],
   "source": [
    "# class BenchFramework (Framework):\n",
    "#     name = \"Collision benchmark framework\"\n",
    "#     # description = \"Press j to toggle the rope joint.\"\n",
    "\n",
    "#     def __init__(self):\n",
    "#         super(BenchFramework, self).__init__()\n",
    "\n",
    "#         # visual settings...\n",
    "#         # self.settings.pause = True\n",
    "#         # self.settings.drawMenu = False\n",
    "\n",
    "#         # create a benchmark... \n",
    "#         self.benchmark = Benchmark(self.world)\n",
    "#         self.freecar = self.benchmark.freeCar\n",
    "\n",
    "#     def Step(self, settings):\n",
    "#         super(BenchFramework, self).Step(settings)\n",
    "\n",
    "#         # Don't do anything if the setting's Hz are <= 0\n",
    "#         if not settings.pause:\n",
    "#             if settings.hz > 0.0:\n",
    "#                 timeStep = 1.0 / settings.hz\n",
    "#                 self.benchmark.Step(timeStep)\n",
    "\n",
    "#     def Keyboard(self, key):\n",
    "#         if key == Keys.K_w:\n",
    "#             # throttle\n",
    "#             self.freecar.Throttle(1)\n",
    "#         if key == Keys.K_s:\n",
    "#             # reverse\n",
    "#             self.freecar.Throttle(-1)\n",
    "#         if key == Keys.K_LSHIFT:\n",
    "#             # break\n",
    "#             self.freecar.Break(1)\n",
    "#         turn=0\n",
    "#         if key == Keys.K_a:\n",
    "#             # turn left\n",
    "#             turn -= 1\n",
    "#         if key == Keys.K_d:\n",
    "#             # turn right\n",
    "#             turn += 1\n",
    "#         self.freecar.Turn(turn)\n",
    "\n",
    "\n"
   ]
  },
  {
   "cell_type": "markdown",
   "id": "e5ec05d8",
   "metadata": {},
   "source": [
    "# benchmark\n",
    "\n",
    "updates pendant 5 secondes"
   ]
  },
  {
   "cell_type": "code",
   "execution_count": 6,
   "id": "3b44b55e",
   "metadata": {},
   "outputs": [
    {
     "name": "stderr",
     "output_type": "stream",
     "text": [
      "100%|██████████| 10/10 [00:10<00:00,  1.00s/it]"
     ]
    },
    {
     "name": "stdout",
     "output_type": "stream",
     "text": [
      "Steps=772328\n",
      "time=10.007649660110474\n",
      "Freq=77173.76469306524\n"
     ]
    },
    {
     "name": "stderr",
     "output_type": "stream",
     "text": [
      "\n"
     ]
    }
   ],
   "source": [
    "\n",
    "from tqdm import tqdm\n",
    "\n",
    "# just run headless and time it !\n",
    "world = b2World()\n",
    "bench = BenchmarkCircuit(world)\n",
    "nbSteps = 0\n",
    "t0 = time()\n",
    "for _ in tqdm(range(10)):\n",
    "    t = time()\n",
    "    while (time() - t <1):\n",
    "        bench.Step(1.0/60)\n",
    "        nbSteps+=1\n",
    "dt = time() - t0\n",
    "freq = float(nbSteps) / dt\n",
    "print(f\"Steps={nbSteps}\")\n",
    "print(f\"time={dt}\")\n",
    "print(f\"Freq={freq}\")"
   ]
  }
 ],
 "metadata": {
  "interpreter": {
   "hash": "c4283d85593a44eb2833136db3b55bac26be8addf1c13f7ac04155a0d3a53fbe"
  },
  "kernelspec": {
   "display_name": "Python 3.9.9 64-bit ('3.9.9')",
   "language": "python",
   "name": "python3"
  },
  "language_info": {
   "codemirror_mode": {
    "name": "ipython",
    "version": 3
   },
   "file_extension": ".py",
   "mimetype": "text/x-python",
   "name": "python",
   "nbconvert_exporter": "python",
   "pygments_lexer": "ipython3",
   "version": "3.9.9"
  }
 },
 "nbformat": 4,
 "nbformat_minor": 5
}
